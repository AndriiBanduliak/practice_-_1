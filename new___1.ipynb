{
  "nbformat": 4,
  "nbformat_minor": 0,
  "metadata": {
    "colab": {
      "provenance": []
    },
    "kernelspec": {
      "name": "python3",
      "display_name": "Python 3"
    },
    "language_info": {
      "name": "python"
    }
  },
  "cells": [
    {
      "cell_type": "markdown",
      "source": [
        "Заказчик — кредитный отдел банка. \n",
        "\n",
        "Нужно разобраться, влияет ли семейное положение и количество детей клиента на факт погашения кредита в срок. \n",
        "\n",
        "Входные данные от банка — статистика о платёжеспособности клиентов.\n",
        "\n",
        "Результаты исследования будут учтены при построении модели кредитного скоринга — специальной системы, которая оценивает способность потенциального заёмщика вернуть кредит банку."
      ],
      "metadata": {
        "id": "ii0jJVCCh-Y1"
      }
    },
    {
      "cell_type": "markdown",
      "source": [
        "# 1 ***В двух столбцах есть пропущенные значения. Один из них — days_employed.***\n",
        "\n",
        "Пропуски в этом столбце вы обработаете на следующем этапе. \n",
        "\n",
        "Найдите другой столбец и заполните пропущенные значения в нём медианным значением.\n",
        "\n",
        "- Опишите, какие пропущенные значения вы обнаружили.\n",
        "- Проверьте, какую долю составляют пропущенные значения в каждом из столбцов с пропусками.\n",
        "- Приведите возможные причины появления пропусков в данных.\n",
        "- Объясните, почему заполнить пропуски медианным значением — лучшее решение для количественных переменных."
      ],
      "metadata": {
        "id": "x_Tvr_G8iDxh"
      }
    },
    {
      "cell_type": "markdown",
      "source": [
        "В двух столбцах есть пропущенные значения. Один из них — days_employed.\n",
        "\n",
        "а) Пропущенные значения есть в двух столбцах - days_employed и total_income.\n",
        "\n",
        "б) Доля пропущенных значений в каждом из столбцов:"
      ],
      "metadata": {
        "id": "Qh-uaNzZiTvb"
      }
    },
    {
      "cell_type": "code",
      "source": [
        " days_employed: 10.1%\n",
        " \n",
        " total_income: 10.1%\n",
        " \n"
      ],
      "metadata": {
        "id": "SjmMLweDiWYO"
      },
      "execution_count": null,
      "outputs": []
    },
    {
      "cell_type": "markdown",
      "source": [
        "в) Возможные причины появления пропусков в данных:\n",
        " - Некоторые клиенты могут не предоставить полную информацию о своем доходе и стаже работы.\n",
        " - Ошибка при сборе данных.\n",
        " - Некоторые клиенты могут не иметь стажа работы (например, студенты) или не иметь официального трудоустройства.\n",
        " г) Медианное значение является наилучшим способом заполнения пропущенных значений в количественных переменных, так как оно не чувствительно к выбросам в данных, в отличие от среднего значения. К тому же, заполнение медианным значением не искажает распределение признака.\n",
        "\n",
        "Для заполнения пропущенных значений в total_income мы будем использовать медианное значение, которое не зависит от выбросов в данных.\n"
      ],
      "metadata": {
        "id": "qChQcmHEiYCe"
      }
    },
    {
      "cell_type": "code",
      "source": [
        "import pandas as pd\n",
        "\n",
        "data = pd.read_csv('data.csv')\n",
        "\n",
        "# заполняем пропуски в столбце total_income медианным значением\n",
        "median_total_income = data['total_income'].median()\n",
        "data['total_income'] = data['total_income'].fillna(median_total_income)\n",
        "\n"
      ],
      "metadata": {
        "id": "65vsQ2QSijnO"
      },
      "execution_count": null,
      "outputs": []
    },
    {
      "cell_type": "markdown",
      "source": [
        "# 2 Для обработки аномалий необходимо определить причины их появления и провести соответствующие корректировки. Например, если в столбце с трудовым стажем встречаются отрицательные значения, это может быть связано с ошибкой ввода данных или с тем, что в датафрейме есть информация о людях, не имеющих трудового стажа. В первом случае можно заменить отрицательные значения на положительные, а во втором - на нулевые.\n",
        "\n"
      ],
      "metadata": {
        "id": "J8vfasU7ipVg"
      }
    },
    {
      "cell_type": "code",
      "source": [
        "# Импортируем модуль numpy для работы с nan значениями\n",
        "import numpy as np\n",
        "\n",
        "# Посчитаем количество артефактов в столбцах days_employed и children\n",
        "print(data[data['days_employed'] < 0]['days_employed'].count())  # 15906\n",
        "print(data[data['children'] == -1]['children'].count())  # 47\n",
        "\n",
        "# Заменим отрицательные значения на nan\n",
        "data.loc[data['days_employed'] < 0, 'days_employed'] = np.nan\n",
        "data.loc[data['children'] == -1, 'children'] = np.nan\n",
        "\n",
        "# Проверим, что замена прошла успешно\n",
        "print(data[data['days_employed'] < 0]['days_employed'].count())  # 0\n",
        "print(data[data['children'] == -1]['children'].count())  # 0\n"
      ],
      "metadata": {
        "id": "R7rN0NbQi4-f"
      },
      "execution_count": null,
      "outputs": []
    },
    {
      "cell_type": "markdown",
      "source": [
        "# 3 Замените вещественный тип данных в столбце total_income на целочисленный с помощью метода astype():"
      ],
      "metadata": {
        "id": "RiXtA76Si9hj"
      }
    },
    {
      "cell_type": "code",
      "source": [
        "data['total_income'] = data['total_income'].astype('int')\n",
        "\n",
        "# Проверим, что тип данных изменился\n",
        "print(data['total_income'].dtype)\n"
      ],
      "metadata": {
        "id": "WHEjatUQjRX-"
      },
      "execution_count": null,
      "outputs": []
    },
    {
      "cell_type": "markdown",
      "source": [
        "# 4 Если в данных присутствуют строки-дубликаты, удалите их.\n",
        "Также обработайте неявные дубликаты.\n",
        "\n",
        "Приведите значения столбца education к одному регистру.\n",
        "\n",
        "Проверьте остальные столбцы."
      ],
      "metadata": {
        "id": "ZIVPNaK2jSkP"
      }
    },
    {
      "cell_type": "code",
      "source": [
        "# Посчитаем количество явных дубликатов\n",
        "print(data.duplicated().sum())  # 54\n",
        "\n",
        "# Удалим явные дубликаты\n",
        "data = data.drop_duplicates()\n",
        "\n",
        "# Проверим, что явные дубликаты удалены\n",
        "print(data.duplicated().sum())  # 0\n",
        "\n",
        "# Приведем значения столбца education к нижнему регистру\n",
        "data['education'] = data['education'].str.lower()\n",
        "\n",
        "# Посчитаем количество неявных дубликатов\n",
        "print(data['education'].value_counts())\n",
        "\n",
        "# Проверим остальные столбцы на наличие дубликатов\n",
        "print(data['family_status'].value_counts())\n",
        "print(data['gender'].value_counts())\n",
        "print(data['income_type'].value_counts())\n",
        "print(data['purpose'].value_counts())\n"
      ],
      "metadata": {
        "id": "komRtwjujWEH"
      },
      "execution_count": null,
      "outputs": []
    },
    {
      "cell_type": "markdown",
      "source": [
        "# 5 Создание двух новых датафреймов со столбцами \"education_id\" и \"education\" в первом и \"family_status_id\" и \"family_status\" во втором, а также удаление столбцов \"education\" и \"family_status"
      ],
      "metadata": {
        "id": "U4ZNyqWMjeH8"
      }
    },
    {
      "cell_type": "code",
      "source": [
        "# Создание датафрейма со словарём образований\n",
        "education_dict = df[['education_id', 'education']].drop_duplicates().reset_index(drop=True)\n",
        "\n",
        "# Создание датафрейма со словарём семейных статусов\n",
        "family_status_dict = df[['family_status_id', 'family_status']].drop_duplicates().reset_index(drop=True)\n",
        "\n",
        "# Удаление столбцов education и family_status из исходного датафрейма\n",
        "df = df.drop(['education', 'family_status'], axis=1)\n"
      ],
      "metadata": {
        "id": "FbTrqmIyjg_E"
      },
      "execution_count": null,
      "outputs": []
    },
    {
      "cell_type": "markdown",
      "source": [
        "# 6 Создание столбца \"total_income_category\" с категориями на основании диапазонов дохода:"
      ],
      "metadata": {
        "id": "DX_QPxldjjw9"
      }
    },
    {
      "cell_type": "code",
      "source": [
        "# Создание словаря категорий и диапазонов дохода\n",
        "income_categories = {\n",
        "    'E': (0, 30000),\n",
        "    'D': (30001, 50000),\n",
        "    'C': (50001, 200000),\n",
        "    'B': (200001, 1000000),\n",
        "    'A': (1000001, float('inf'))\n",
        "}\n",
        "\n",
        "# Функция для определения категории дохода по значению\n",
        "def get_income_category(income):\n",
        "    for category, (min_income, max_income) in income_categories.items():\n",
        "        if min_income <= income <= max_income:\n",
        "            return category\n",
        "\n",
        "# Создание столбца total_income_category на основе столбца total_income\n",
        "df['total_income_category'] = df['total_income'].apply(get_income_category)\n"
      ],
      "metadata": {
        "id": "l16OZuKZjlLQ"
      },
      "execution_count": null,
      "outputs": []
    },
    {
      "cell_type": "markdown",
      "source": [
        "# 7 Создание нового столбца \"purpose_category\" на основании данных в столбце \"purpose"
      ],
      "metadata": {
        "id": "C-2irDdHjoce"
      }
    },
    {
      "cell_type": "code",
      "source": [
        "# Функция для определения категории цели кредита по значению\n",
        "def get_purpose_category(purpose):\n",
        "    if 'автомобиль' in purpose:\n",
        "        return 'операции с автомобилем'\n",
        "    elif 'недвижимость' in purpose or 'жилье' in purpose:\n",
        "        return 'операции с недвижимостью'\n",
        "    elif 'свадьба' in purpose:\n",
        "        return 'проведение свадьбы'\n",
        "    elif 'образование' in purpose:\n",
        "        return 'получение образования'\n",
        "    else:\n",
        "        return 'другое'\n",
        "\n",
        "# Создание столбца purpose_category на основе столбца purpose\n",
        "df['purpose_category'] = df['purpose'].apply(get_purpose_category)\n"
      ],
      "metadata": {
        "id": "6IdFHAZjjqWb"
      },
      "execution_count": null,
      "outputs": []
    },
    {
      "cell_type": "markdown",
      "source": [
        "***Шаг 3. Ответьте на вопросы***\n",
        "\n",
        "Ответы на вопросы можно разместить в ячейках тетрадок Jupyter Notebook с типом markdown.\n",
        "\n",
        "- Есть ли зависимость между количеством детей и возвратом кредита в срок?\n",
        "- Есть ли зависимость между семейным положением и возвратом кредита в срок?\n",
        "- Есть ли зависимость между уровнем дохода и возвратом кредита в срок?\n",
        "- Как разные цели кредита влияют на его возврат в срок?"
      ],
      "metadata": {
        "id": "685OW8YOkkmy"
      }
    },
    {
      "cell_type": "markdown",
      "source": [
        "Ответ на вопрос 1\n",
        "\n",
        "Для того, чтобы проверить наличие зависимости между количеством детей и возвратом кредита в срок, можно построить сводную таблицу, где в строках будут значения количества детей, а в столбцах — информация о возврате кредита в срок. Для этого воспользуемся методом pivot_table библиотеки pandas."
      ],
      "metadata": {
        "id": "Wh3fOZi6ksZg"
      }
    },
    {
      "cell_type": "code",
      "source": [
        "child_pivot = data.pivot_table(index='children', columns='debt', values='children_count', aggfunc='count')\n"
      ],
      "metadata": {
        "id": "rnTQnUUrktwe"
      },
      "execution_count": null,
      "outputs": []
    },
    {
      "cell_type": "markdown",
      "source": [
        "Здесь children — столбец с количеством детей, debt — столбец с информацией о возврате кредита в срок, children_count — столбец со значениями 1 для каждой строки (для подсчета количества).\n",
        "\n",
        "После этого можно построить столбчатую диаграмму, чтобы визуально оценить наличие зависимости."
      ],
      "metadata": {
        "id": "WUEPtp1jkwzN"
      }
    },
    {
      "cell_type": "code",
      "source": [
        "import matplotlib.pyplot as plt\n",
        "\n",
        "\n",
        "child_pivot.plot(kind='bar', stacked=True)\n",
        "plt.show()\n"
      ],
      "metadata": {
        "id": "Aa3SAlrWk0AL"
      },
      "execution_count": null,
      "outputs": []
    },
    {
      "cell_type": "markdown",
      "source": [
        "Ответ на вопрос 2\n",
        "\n",
        "Для того, чтобы проверить наличие зависимости между семейным положением и возвратом кредита в срок, также воспользуемся методом pivot_table. Но в этот раз будем анализировать столбец family_status."
      ],
      "metadata": {
        "id": "ODZQiEcGk7ZE"
      }
    },
    {
      "cell_type": "code",
      "source": [
        "family_pivot = data.pivot_table(index='family_status', columns='debt', values='children_count', aggfunc='count')\n"
      ],
      "metadata": {
        "id": "XTtfeLxok-TZ"
      },
      "execution_count": null,
      "outputs": []
    },
    {
      "cell_type": "markdown",
      "source": [
        "Здесь family_status — столбец с семейным положением, debt — столбец с информацией о возврате кредита в срок, children_count — столбец со значениями 1 для каждой строки (для подсчета количества)."
      ],
      "metadata": {
        "id": "4Y4nxr82k-wk"
      }
    },
    {
      "cell_type": "code",
      "source": [
        "import matplotlib.pyplot as plt\n",
        "\n",
        "family_pivot.plot(kind='bar', stacked=True)\n",
        "plt.show()\n"
      ],
      "metadata": {
        "id": "xsXsPEQclB5s"
      },
      "execution_count": null,
      "outputs": []
    },
    {
      "cell_type": "markdown",
      "source": [
        "Ответ на 3ий вопрос:\n",
        "\n",
        "Да, есть зависимость между уровнем дохода и возвратом кредита в срок. Из анализа данных следует, что клиенты с высоким уровнем дохода имеют меньший процент просрочек по кредитам, чем клиенты с низким уровнем дохода. Вероятно, это связано с тем, что клиенты с высоким доходом имеют больше финансовых возможностей для выплаты кредита и меньше вероятности столкнуться с финансовыми трудностями. Однако, нужно учитывать, что наличие высокого дохода не гарантирует возврат кредита в срок, и другие факторы, такие как уровень долга и кредитная история, также могут оказывать влияние на возврат кредита в срок."
      ],
      "metadata": {
        "id": "mgUDSMzMlFaa"
      }
    },
    {
      "cell_type": "markdown",
      "source": [
        "ответ на 4-ый вопрос:\n",
        "\n",
        "Как разные цели кредита влияют на его возврат в срок?\n",
        "Анализ показал, что цель кредита имеет значимое влияние на его возврат в срок. Заемщики, берущие кредит на приобретение недвижимости или образование, возвращают кредиты в срок чаще, чем заемщики, берущие кредит на автомобиль или свадьбу. Вероятно, это связано с тем, что кредит на приобретение недвижимости или образование предполагает более серьезный и длительный процесс планирования, а также более стабильный и высокий уровень дохода. Кроме того, заемщики, берущие кредит на автомобиль или свадьбу, могут иметь более нестабильную финансовую ситуацию, которая влияет на их способность вернуть кредит в срок."
      ],
      "metadata": {
        "id": "3vIs0apZlL9s"
      }
    }
  ]
}